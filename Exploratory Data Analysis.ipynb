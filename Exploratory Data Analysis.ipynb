{
 "cells": [
  {
   "cell_type": "markdown",
   "metadata": {},
   "source": [
    "## Import Necessary Libraries"
   ]
  },
  {
   "cell_type": "code",
   "execution_count": 1,
   "metadata": {},
   "outputs": [],
   "source": [
    "import pandas as pd\n",
    "import numpy as np\n",
    "import matplotlib.pyplot as plt\n",
    "\n",
    "# For cleaner output in the notebook\n",
    "%matplotlib inline\n",
    "\n",
    "# Optional: configure display settings for Pandas\n",
    "pd.set_option('display.max_columns', None)\n",
    "pd.set_option('display.max_rows', 10)"
   ]
  },
  {
   "cell_type": "markdown",
   "metadata": {},
   "source": [
    "## Load the Parquet File"
   ]
  },
  {
   "cell_type": "code",
   "execution_count": 2,
   "metadata": {},
   "outputs": [
    {
     "name": "stdout",
     "output_type": "stream",
     "text": [
      "<class 'pandas.core.frame.DataFrame'>\n",
      "Index: 10000 entries, 62836479 to 61483890\n",
      "Data columns (total 5 columns):\n",
      " #   Column        Non-Null Count  Dtype \n",
      "---  ------        --------------  ----- \n",
      " 0   UserID        10000 non-null  int64 \n",
      " 1   ItemID        10000 non-null  int64 \n",
      " 2   CategoryID    10000 non-null  int64 \n",
      " 3   BehaviorType  10000 non-null  object\n",
      " 4   Timestamp     10000 non-null  object\n",
      "dtypes: int64(3), object(2)\n",
      "memory usage: 468.8+ KB\n"
     ]
    }
   ],
   "source": [
    "# Path to your local Parquet file\n",
    "parquet_file_path = r\"C:\\Users\\anujp\\Desktop\\Data-Visualization-Final-Project\\data\\UserBehavior\\user_behavior_sample_10000.parquet\"\n",
    "\n",
    "# Read the Parquet file into a Pandas DataFrame\n",
    "df = pd.read_parquet(parquet_file_path)\n",
    "\n",
    "# Check basic information about the DataFrame\n",
    "df.info()"
   ]
  },
  {
   "cell_type": "markdown",
   "metadata": {},
   "source": [
    "## Display Basic DataFrame Stats"
   ]
  },
  {
   "cell_type": "code",
   "execution_count": 3,
   "metadata": {},
   "outputs": [
    {
     "data": {
      "text/html": [
       "<div>\n",
       "<style scoped>\n",
       "    .dataframe tbody tr th:only-of-type {\n",
       "        vertical-align: middle;\n",
       "    }\n",
       "\n",
       "    .dataframe tbody tr th {\n",
       "        vertical-align: top;\n",
       "    }\n",
       "\n",
       "    .dataframe thead th {\n",
       "        text-align: right;\n",
       "    }\n",
       "</style>\n",
       "<table border=\"1\" class=\"dataframe\">\n",
       "  <thead>\n",
       "    <tr style=\"text-align: right;\">\n",
       "      <th></th>\n",
       "      <th>UserID</th>\n",
       "      <th>ItemID</th>\n",
       "      <th>CategoryID</th>\n",
       "      <th>BehaviorType</th>\n",
       "      <th>Timestamp</th>\n",
       "    </tr>\n",
       "  </thead>\n",
       "  <tbody>\n",
       "    <tr>\n",
       "      <th>62836479</th>\n",
       "      <td>643062</td>\n",
       "      <td>371178</td>\n",
       "      <td>4801426</td>\n",
       "      <td>pv</td>\n",
       "      <td>2017-11-30 22:16:45</td>\n",
       "    </tr>\n",
       "    <tr>\n",
       "      <th>61351116</th>\n",
       "      <td>564028</td>\n",
       "      <td>1339061</td>\n",
       "      <td>2355072</td>\n",
       "      <td>pv</td>\n",
       "      <td>2017-11-29 23:10:54</td>\n",
       "    </tr>\n",
       "    <tr>\n",
       "      <th>1933820</th>\n",
       "      <td>184294</td>\n",
       "      <td>1368068</td>\n",
       "      <td>2735466</td>\n",
       "      <td>pv</td>\n",
       "      <td>2017-11-25 12:09:52</td>\n",
       "    </tr>\n",
       "    <tr>\n",
       "      <th>3585790</th>\n",
       "      <td>26973</td>\n",
       "      <td>487612</td>\n",
       "      <td>2465336</td>\n",
       "      <td>pv</td>\n",
       "      <td>2017-11-27 08:15:09</td>\n",
       "    </tr>\n",
       "    <tr>\n",
       "      <th>28853497</th>\n",
       "      <td>690287</td>\n",
       "      <td>2225060</td>\n",
       "      <td>344833</td>\n",
       "      <td>pv</td>\n",
       "      <td>2017-11-28 15:55:30</td>\n",
       "    </tr>\n",
       "  </tbody>\n",
       "</table>\n",
       "</div>"
      ],
      "text/plain": [
       "          UserID   ItemID  CategoryID BehaviorType            Timestamp\n",
       "62836479  643062   371178     4801426           pv  2017-11-30 22:16:45\n",
       "61351116  564028  1339061     2355072           pv  2017-11-29 23:10:54\n",
       "1933820   184294  1368068     2735466           pv  2017-11-25 12:09:52\n",
       "3585790    26973   487612     2465336           pv  2017-11-27 08:15:09\n",
       "28853497  690287  2225060      344833           pv  2017-11-28 15:55:30"
      ]
     },
     "metadata": {},
     "output_type": "display_data"
    },
    {
     "data": {
      "text/html": [
       "<div>\n",
       "<style scoped>\n",
       "    .dataframe tbody tr th:only-of-type {\n",
       "        vertical-align: middle;\n",
       "    }\n",
       "\n",
       "    .dataframe tbody tr th {\n",
       "        vertical-align: top;\n",
       "    }\n",
       "\n",
       "    .dataframe thead th {\n",
       "        text-align: right;\n",
       "    }\n",
       "</style>\n",
       "<table border=\"1\" class=\"dataframe\">\n",
       "  <thead>\n",
       "    <tr style=\"text-align: right;\">\n",
       "      <th></th>\n",
       "      <th>UserID</th>\n",
       "      <th>ItemID</th>\n",
       "      <th>CategoryID</th>\n",
       "    </tr>\n",
       "  </thead>\n",
       "  <tbody>\n",
       "    <tr>\n",
       "      <th>count</th>\n",
       "      <td>1.000000e+04</td>\n",
       "      <td>1.000000e+04</td>\n",
       "      <td>1.000000e+04</td>\n",
       "    </tr>\n",
       "    <tr>\n",
       "      <th>mean</th>\n",
       "      <td>5.048674e+05</td>\n",
       "      <td>2.578699e+06</td>\n",
       "      <td>2.700685e+06</td>\n",
       "    </tr>\n",
       "    <tr>\n",
       "      <th>std</th>\n",
       "      <td>2.933970e+05</td>\n",
       "      <td>1.493778e+06</td>\n",
       "      <td>1.479242e+06</td>\n",
       "    </tr>\n",
       "    <tr>\n",
       "      <th>min</th>\n",
       "      <td>4.000000e+00</td>\n",
       "      <td>7.570000e+02</td>\n",
       "      <td>4.907000e+03</td>\n",
       "    </tr>\n",
       "    <tr>\n",
       "      <th>25%</th>\n",
       "      <td>2.502788e+05</td>\n",
       "      <td>1.269968e+06</td>\n",
       "      <td>1.320293e+06</td>\n",
       "    </tr>\n",
       "    <tr>\n",
       "      <th>50%</th>\n",
       "      <td>5.048520e+05</td>\n",
       "      <td>2.620062e+06</td>\n",
       "      <td>2.678261e+06</td>\n",
       "    </tr>\n",
       "    <tr>\n",
       "      <th>75%</th>\n",
       "      <td>7.549710e+05</td>\n",
       "      <td>3.871257e+06</td>\n",
       "      <td>4.145813e+06</td>\n",
       "    </tr>\n",
       "    <tr>\n",
       "      <th>max</th>\n",
       "      <td>1.017861e+06</td>\n",
       "      <td>5.161884e+06</td>\n",
       "      <td>5.147460e+06</td>\n",
       "    </tr>\n",
       "  </tbody>\n",
       "</table>\n",
       "</div>"
      ],
      "text/plain": [
       "             UserID        ItemID    CategoryID\n",
       "count  1.000000e+04  1.000000e+04  1.000000e+04\n",
       "mean   5.048674e+05  2.578699e+06  2.700685e+06\n",
       "std    2.933970e+05  1.493778e+06  1.479242e+06\n",
       "min    4.000000e+00  7.570000e+02  4.907000e+03\n",
       "25%    2.502788e+05  1.269968e+06  1.320293e+06\n",
       "50%    5.048520e+05  2.620062e+06  2.678261e+06\n",
       "75%    7.549710e+05  3.871257e+06  4.145813e+06\n",
       "max    1.017861e+06  5.161884e+06  5.147460e+06"
      ]
     },
     "metadata": {},
     "output_type": "display_data"
    },
    {
     "name": "stdout",
     "output_type": "stream",
     "text": [
      "DataFrame shape: (10000, 5)\n",
      "Missing values:\n",
      " UserID          0\n",
      "ItemID          0\n",
      "CategoryID      0\n",
      "BehaviorType    0\n",
      "Timestamp       0\n",
      "dtype: int64\n"
     ]
    }
   ],
   "source": [
    "# Look at the first few rows\n",
    "display(df.head())\n",
    "\n",
    "# Summary statistics for numeric columns\n",
    "display(df.describe())\n",
    "\n",
    "# Check the shape (rows, columns)\n",
    "print(\"DataFrame shape:\", df.shape)\n",
    "\n",
    "# Check if there are any missing values in each column\n",
    "print(\"Missing values:\\n\", df.isnull().sum())\n"
   ]
  },
  {
   "cell_type": "markdown",
   "metadata": {},
   "source": [
    "Examine Columns and Data Types"
   ]
  },
  {
   "cell_type": "code",
   "execution_count": 4,
   "metadata": {},
   "outputs": [
    {
     "name": "stdout",
     "output_type": "stream",
     "text": [
      "[4801426 2355072 2735466 2465336  344833 2210612 2520771 2629787 4743234\n",
      " 1051370]\n"
     ]
    }
   ],
   "source": [
    "# Print a few sample CategoryIDs\n",
    "print(df[\"CategoryID\"].unique()[:10])"
   ]
  },
  {
   "cell_type": "code",
   "execution_count": 5,
   "metadata": {},
   "outputs": [
    {
     "name": "stdout",
     "output_type": "stream",
     "text": [
      "Columns and Data Types:\n",
      "UserID           int64\n",
      "ItemID           int64\n",
      "CategoryID       int64\n",
      "BehaviorType    object\n",
      "Timestamp       object\n",
      "dtype: object\n",
      "\n",
      "After conversion, Timestamp dtype: datetime64[ns]\n"
     ]
    }
   ],
   "source": [
    "print(\"Columns and Data Types:\")\n",
    "print(df.dtypes)\n",
    "\n",
    "# If Timestamp is not already datetime, convert it\n",
    "if not pd.api.types.is_datetime64_any_dtype(df[\"Timestamp\"]):\n",
    "    df[\"Timestamp\"] = pd.to_datetime(df[\"Timestamp\"], unit='s', origin='unix', errors='coerce')\n",
    "    # Adjust as needed if your timestamp column is not in standard Unix seconds.\n",
    "    # If it's already in datetime format, this step is optional.\n",
    "    \n",
    "# Confirm the column type after conversion\n",
    "print(\"\\nAfter conversion, Timestamp dtype:\", df[\"Timestamp\"].dtype)"
   ]
  },
  {
   "cell_type": "markdown",
   "metadata": {},
   "source": [
    " Unique values"
   ]
  },
  {
   "cell_type": "code",
   "execution_count": 6,
   "metadata": {},
   "outputs": [
    {
     "name": "stdout",
     "output_type": "stream",
     "text": [
      "\n",
      "Unique values in CategoryID:\n",
      "nUnique count in CategoryID: 1596\n",
      "\n",
      "Unique values in ItemID:\n",
      "Unique count in ItemID 9658\n",
      "\n",
      "Unique values in UserID:\n",
      "Unique count in UserID 9915\n"
     ]
    }
   ],
   "source": [
    "print(\"\\nUnique values in CategoryID:\")\n",
    "print(\"nUnique count in CategoryID:\",(df[\"CategoryID\"].nunique()))\n",
    "\n",
    "print(\"\\nUnique values in ItemID:\")\n",
    "print(\"Unique count in ItemID\",(df[\"ItemID\"].nunique()))\n",
    "\n",
    "print(\"\\nUnique values in UserID:\")\n",
    "print(\"Unique count in UserID\",(df[\"UserID\"].nunique()))\n",
    "\n"
   ]
  },
  {
   "cell_type": "markdown",
   "metadata": {},
   "source": [
    "## Basic Distributions & Value Counts"
   ]
  },
  {
   "cell_type": "markdown",
   "metadata": {},
   "source": [
    "### Distribution of Behavior Types"
   ]
  },
  {
   "cell_type": "code",
   "execution_count": 7,
   "metadata": {},
   "outputs": [
    {
     "name": "stdout",
     "output_type": "stream",
     "text": [
      "BehaviorType value counts:\n",
      " BehaviorType\n",
      "pv      8924\n",
      "cart     580\n",
      "fav      285\n",
      "buy      211\n",
      "Name: count, dtype: int64\n"
     ]
    },
    {
     "data": {
      "image/png": "[encoded data removed]",
      "text/plain": [
       "<Figure size 600x400 with 1 Axes>"
      ]
     },
     "metadata": {},
     "output_type": "display_data"
    }
   ],
   "source": [
    "behavior_counts = df[\"BehaviorType\"].value_counts()\n",
    "print(\"BehaviorType value counts:\\n\", behavior_counts)\n",
    "\n",
    "plt.figure(figsize=(6, 4))\n",
    "behavior_counts.plot(kind='bar')\n",
    "plt.title(\"Distribution of Behavior Types\")\n",
    "plt.xlabel(\"Behavior Type\")\n",
    "plt.ylabel(\"Count\")\n",
    "plt.show()\n"
   ]
  },
  {
   "cell_type": "markdown",
   "metadata": {},
   "source": [
    "### Top Categories by Frequency"
   ]
  },
  {
   "cell_type": "code",
   "execution_count": 8,
   "metadata": {},
   "outputs": [
    {
     "name": "stdout",
     "output_type": "stream",
     "text": [
      "Number of unique categories: 1596\n",
      "\n",
      "Top 10 most frequent CategoryIDs:\n",
      "CategoryID\n",
      "4756105    520\n",
      "4145813    363\n",
      "2355072    326\n",
      "3607361    311\n",
      "982926     290\n",
      "2520377    224\n",
      "4801426    210\n",
      "1320293    197\n",
      "2465336    161\n",
      "3002561    148\n",
      "Name: count, dtype: int64\n"
     ]
    },
    {
     "data": {
      "image/png": "[encoded data removed]",
      "text/plain": [
       "<Figure size 800x400 with 1 Axes>"
      ]
     },
     "metadata": {},
     "output_type": "display_data"
    }
   ],
   "source": [
    "category_counts = df[\"CategoryID\"].value_counts()\n",
    "\n",
    "print(\"Number of unique categories:\", df[\"CategoryID\"].nunique())\n",
    "print(\"\\nTop 10 most frequent CategoryIDs:\")\n",
    "print(category_counts.head(10))\n",
    "\n",
    "plt.figure(figsize=(8, 4))\n",
    "category_counts.head(10).plot(kind='bar')\n",
    "plt.title(\"Top 10 Categories by Frequency of User Actions\")\n",
    "plt.xlabel(\"CategoryID\")\n",
    "plt.ylabel(\"Count of Actions\")\n",
    "plt.show()\n"
   ]
  },
  {
   "cell_type": "markdown",
   "metadata": {},
   "source": [
    "### Top Items by Frequency"
   ]
  },
  {
   "cell_type": "code",
   "execution_count": 9,
   "metadata": {},
   "outputs": [
    {
     "name": "stdout",
     "output_type": "stream",
     "text": [
      "Number of unique items: 9658\n",
      "\n",
      "Top 10 most frequent Items:\n",
      "ItemID\n",
      "812879     6\n",
      "3403645    5\n",
      "2032668    4\n",
      "140359     4\n",
      "138964     4\n",
      "1962765    4\n",
      "2167765    4\n",
      "3330337    4\n",
      "4449961    4\n",
      "987143     4\n",
      "Name: count, dtype: int64\n"
     ]
    },
    {
     "data": {
      "image/png": "[encoded data removed]",
      "text/plain": [
       "<Figure size 800x400 with 1 Axes>"
      ]
     },
     "metadata": {},
     "output_type": "display_data"
    }
   ],
   "source": [
    "item_counts = df[\"ItemID\"].value_counts()\n",
    "\n",
    "print(\"Number of unique items:\", df[\"ItemID\"].nunique())\n",
    "print(\"\\nTop 10 most frequent Items:\")\n",
    "print(item_counts.head(10))\n",
    "\n",
    "plt.figure(figsize=(8, 4))\n",
    "item_counts.head(10).plot(kind='bar')\n",
    "plt.title(\"Top 10 Items by Frequency of User Actions\")\n",
    "plt.xlabel(\"ItemID\")\n",
    "plt.ylabel(\"Count of Actions\")\n",
    "plt.show()"
   ]
  },
  {
   "cell_type": "markdown",
   "metadata": {},
   "source": [
    "## Time-Based Analysis"
   ]
  },
  {
   "cell_type": "markdown",
   "metadata": {},
   "source": [
    "### Create Time Features"
   ]
  },
  {
   "cell_type": "code",
   "execution_count": 10,
   "metadata": {},
   "outputs": [
    {
     "name": "stdout",
     "output_type": "stream",
     "text": [
      "Raw Timestamp dtype: object\n",
      "Sample values: 62836479    2017-11-30 22:16:45\n",
      "61351116    2017-11-29 23:10:54\n",
      "1933820     2017-11-25 12:09:52\n",
      "3585790     2017-11-27 08:15:09\n",
      "28853497    2017-11-28 15:55:30\n",
      "Name: Timestamp, dtype: object\n"
     ]
    }
   ],
   "source": [
    "df = pd.read_parquet(parquet_file_path)\n",
    "print(\"Raw Timestamp dtype:\", df[\"Timestamp\"].dtype)\n",
    "print(\"Sample values:\", df[\"Timestamp\"].head())"
   ]
  },
  {
   "cell_type": "code",
   "execution_count": null,
   "metadata": {},
   "outputs": [],
   "source": [
    "# convert Timestamp to datetime\n",
    "df[\"Timestamp\"] = pd.to_datetime(df[\"Timestamp\"], errors='coerce')  # no deprecated args\n",
    "\n",
    "# Check for successful conversion\n",
    "print(\"Converted Timestamp dtype:\", df[\"Timestamp\"].dtype)\n",
    "print(\"Missing values after conversion:\", df[\"Timestamp\"].isna().sum())\n",
    "\n",
    "# 🔁 Proceed only if timestamps are valid\n",
    "if df[\"Timestamp\"].notna().any():\n",
    "    # Extract date components\n",
    "    df[\"date\"] = df[\"Timestamp\"].dt.date\n",
    "    df[\"hour\"] = df[\"Timestamp\"].dt.hour\n",
    "    df[\"day_of_week\"] = df[\"Timestamp\"].dt.dayofweek\n",
    "\n",
    "    # Count actions per date\n",
    "    date_counts = df[\"date\"].value_counts().sort_index()\n",
    "\n",
    "    # Print date range\n",
    "    print(\"📅 Date range:\", df[\"date\"].min(), \"to\", df[\"date\"].max())\n",
    "\n",
    "    # 📊 Plot\n",
    "    plt.figure(figsize=(10, 5))\n",
    "    date_counts.plot(kind='bar', color='skyblue')\n",
    "    plt.title(\"Number of User Actions by Date\")\n",
    "    plt.xlabel(\"Date\")\n",
    "    plt.ylabel(\"Count of Actions\")\n",
    "    plt.xticks(rotation=45)\n",
    "    plt.tight_layout()\n",
    "    plt.show()\n",
    "else:\n",
    "    print(\"⚠️ No valid timestamps found. Please check the data again.\")"
   ]
  },
  {
   "cell_type": "markdown",
   "metadata": {},
   "source": [
    "### Hourly Pattern"
   ]
  },
  {
   "cell_type": "code",
   "execution_count": null,
   "metadata": {},
   "outputs": [],
   "source": [
    "# Cell 9\n",
    "\n",
    "hour_counts = df[\"hour\"].value_counts().sort_index()\n",
    "print(\"Hourly distribution of actions:\")\n",
    "print(hour_counts)\n",
    "\n",
    "plt.figure(figsize=(8, 4))\n",
    "hour_counts.plot(kind='bar')\n",
    "plt.title(\"Number of User Actions by Hour of Day\")\n",
    "plt.xlabel(\"Hour (0-23)\")\n",
    "plt.ylabel(\"Count of Actions\")\n",
    "plt.show()\n"
   ]
  },
  {
   "cell_type": "code",
   "execution_count": null,
   "metadata": {},
   "outputs": [],
   "source": [
    "import seaborn as sns\n",
    "import matplotlib.pyplot as plt\n",
    "\n",
    "# Group by weekday and hour\n",
    "heatmap_data = df.groupby([\"day_of_week\", \"hour\"]).size().unstack()\n",
    "\n",
    "# Plot heatmap\n",
    "plt.figure(figsize=(12, 6))\n",
    "sns.heatmap(heatmap_data, cmap=\"Blues\", annot=False)\n",
    "plt.title(\"User Activity Heatmap: Hour of Day vs Day of Week\")\n",
    "plt.xlabel(\"Hour of Day\")\n",
    "plt.ylabel(\"Day of Week (0=Mon, 6=Sun)\")\n",
    "plt.tight_layout()\n",
    "plt.show()\n"
   ]
  },
  {
   "cell_type": "markdown",
   "metadata": {},
   "source": [
    "### Behavior Type by Hour"
   ]
  },
  {
   "cell_type": "code",
   "execution_count": null,
   "metadata": {},
   "outputs": [],
   "source": [
    "# Cell 10\n",
    "\n",
    "# Group by hour and behavior\n",
    "hour_behavior = df.groupby([\"hour\", \"BehaviorType\"]).size().unstack(fill_value=0)\n",
    "\n",
    "print(hour_behavior.head(24))  # Just to see the first 24 rows if you have that many hours\n",
    "hour_behavior.plot(kind='line', figsize=(10, 6))\n",
    "plt.title(\"User Actions by Hour and Behavior Type\")\n",
    "plt.xlabel(\"Hour of Day\")\n",
    "plt.ylabel(\"Count of Actions\")\n",
    "plt.legend(title=\"BehaviorType\")\n",
    "plt.show()\n"
   ]
  },
  {
   "cell_type": "markdown",
   "metadata": {},
   "source": [
    "## Funnel Analysis (High-Level)"
   ]
  },
  {
   "cell_type": "code",
   "execution_count": null,
   "metadata": {},
   "outputs": [],
   "source": [
    "# Cell 11\n",
    "\n",
    "# We want to see the ratio of buy actions to pv actions, or cart to pv, etc.\n",
    "behavior_totals = df[\"BehaviorType\"].value_counts()\n",
    "pv_count = behavior_totals.get(\"pv\", 0)\n",
    "cart_count = behavior_totals.get(\"cart\", 0)\n",
    "fav_count = behavior_totals.get(\"fav\", 0)\n",
    "buy_count = behavior_totals.get(\"buy\", 0)\n",
    "\n",
    "print(\"Total Page Views (pv):\", pv_count)\n",
    "print(\"Total Cart Adds (cart):\", cart_count)\n",
    "print(\"Total Favorites (fav):\", fav_count)\n",
    "print(\"Total Purchases (buy):\", buy_count)\n",
    "\n",
    "# Quick funnel ratio from pv -> cart -> buy\n",
    "if pv_count > 0:\n",
    "    pv_to_cart_ratio = cart_count / pv_count\n",
    "    pv_to_buy_ratio = buy_count / pv_count\n",
    "    print(f\"\\nRatio of cart to pv: {pv_to_cart_ratio:.4f}\")\n",
    "    print(f\"Ratio of buy to pv: {pv_to_buy_ratio:.4f}\")\n",
    "\n",
    "if cart_count > 0:\n",
    "    cart_to_buy_ratio = buy_count / cart_count\n",
    "    print(f\"\\nRatio of buy to cart: {cart_to_buy_ratio:.4f}\")\n"
   ]
  },
  {
   "cell_type": "markdown",
   "metadata": {},
   "source": [
    "### Checking for Duplicates"
   ]
  },
  {
   "cell_type": "code",
   "execution_count": null,
   "metadata": {},
   "outputs": [],
   "source": [
    "# Cell 12\n",
    "\n",
    "# Some raw event logs can have duplicates\n",
    "duplicate_rows = df.duplicated().sum()\n",
    "print(\"Number of duplicated rows:\", duplicate_rows)\n",
    "\n",
    "# If you want to remove duplicates:\n",
    "# df.drop_duplicates(inplace=True)\n"
   ]
  }
 ],
 "metadata": {
  "kernelspec": {
   "display_name": "data_visualization",
   "language": "python",
   "name": "python3"
  },
  "language_info": {
   "codemirror_mode": {
    "name": "ipython",
    "version": 3
   },
   "file_extension": ".py",
   "mimetype": "text/x-python",
   "name": "python",
   "nbconvert_exporter": "python",
   "pygments_lexer": "ipython3",
   "version": "3.9.21"
  }
 },
 "nbformat": 4,
 "nbformat_minor": 2
}
