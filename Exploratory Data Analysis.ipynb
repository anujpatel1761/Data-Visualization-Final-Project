{
 "cells": [
  {
   "cell_type": "code",
   "execution_count": 1,
   "metadata": {},
   "outputs": [],
   "source": [
    "import pandas as pd"
   ]
  },
  {
   "cell_type": "code",
   "execution_count": 2,
   "metadata": {},
   "outputs": [
    {
     "data": {
      "text/html": [
       "<div>\n",
       "<style scoped>\n",
       "    .dataframe tbody tr th:only-of-type {\n",
       "        vertical-align: middle;\n",
       "    }\n",
       "\n",
       "    .dataframe tbody tr th {\n",
       "        vertical-align: top;\n",
       "    }\n",
       "\n",
       "    .dataframe thead th {\n",
       "        text-align: right;\n",
       "    }\n",
       "</style>\n",
       "<table border=\"1\" class=\"dataframe\">\n",
       "  <thead>\n",
       "    <tr style=\"text-align: right;\">\n",
       "      <th></th>\n",
       "      <th>UserID</th>\n",
       "      <th>ItemID</th>\n",
       "      <th>CategoryID</th>\n",
       "      <th>BehaviorType</th>\n",
       "      <th>Timestamp</th>\n",
       "    </tr>\n",
       "  </thead>\n",
       "  <tbody>\n",
       "    <tr>\n",
       "      <th>0</th>\n",
       "      <td>1</td>\n",
       "      <td>2576651</td>\n",
       "      <td>149192</td>\n",
       "      <td>pv</td>\n",
       "      <td>2017-11-25 01:21:25</td>\n",
       "    </tr>\n",
       "    <tr>\n",
       "      <th>1</th>\n",
       "      <td>1</td>\n",
       "      <td>3830808</td>\n",
       "      <td>4181361</td>\n",
       "      <td>pv</td>\n",
       "      <td>2017-11-25 07:04:53</td>\n",
       "    </tr>\n",
       "    <tr>\n",
       "      <th>2</th>\n",
       "      <td>1</td>\n",
       "      <td>4365585</td>\n",
       "      <td>2520377</td>\n",
       "      <td>pv</td>\n",
       "      <td>2017-11-25 07:49:06</td>\n",
       "    </tr>\n",
       "    <tr>\n",
       "      <th>3</th>\n",
       "      <td>1</td>\n",
       "      <td>4606018</td>\n",
       "      <td>2735466</td>\n",
       "      <td>pv</td>\n",
       "      <td>2017-11-25 13:28:01</td>\n",
       "    </tr>\n",
       "    <tr>\n",
       "      <th>4</th>\n",
       "      <td>1</td>\n",
       "      <td>230380</td>\n",
       "      <td>411153</td>\n",
       "      <td>pv</td>\n",
       "      <td>2017-11-25 21:22:22</td>\n",
       "    </tr>\n",
       "    <tr>\n",
       "      <th>...</th>\n",
       "      <td>...</td>\n",
       "      <td>...</td>\n",
       "      <td>...</td>\n",
       "      <td>...</td>\n",
       "      <td>...</td>\n",
       "    </tr>\n",
       "    <tr>\n",
       "      <th>86953520</th>\n",
       "      <td>999999</td>\n",
       "      <td>4929832</td>\n",
       "      <td>4602841</td>\n",
       "      <td>pv</td>\n",
       "      <td>2017-12-02 12:39:54</td>\n",
       "    </tr>\n",
       "    <tr>\n",
       "      <th>86953521</th>\n",
       "      <td>999999</td>\n",
       "      <td>1492928</td>\n",
       "      <td>4794845</td>\n",
       "      <td>pv</td>\n",
       "      <td>2017-12-02 12:40:43</td>\n",
       "    </tr>\n",
       "    <tr>\n",
       "      <th>86953522</th>\n",
       "      <td>999999</td>\n",
       "      <td>2879219</td>\n",
       "      <td>4794845</td>\n",
       "      <td>pv</td>\n",
       "      <td>2017-12-02 12:41:09</td>\n",
       "    </tr>\n",
       "    <tr>\n",
       "      <th>86953523</th>\n",
       "      <td>999999</td>\n",
       "      <td>1497516</td>\n",
       "      <td>1817077</td>\n",
       "      <td>pv</td>\n",
       "      <td>2017-12-02 12:43:01</td>\n",
       "    </tr>\n",
       "    <tr>\n",
       "      <th>86953524</th>\n",
       "      <td>999999</td>\n",
       "      <td>4466226</td>\n",
       "      <td>1817077</td>\n",
       "      <td>pv</td>\n",
       "      <td>2017-12-02 12:43:19</td>\n",
       "    </tr>\n",
       "  </tbody>\n",
       "</table>\n",
       "<p>86953525 rows × 5 columns</p>\n",
       "</div>"
      ],
      "text/plain": [
       "          UserID   ItemID  CategoryID BehaviorType            Timestamp\n",
       "0              1  2576651      149192           pv  2017-11-25 01:21:25\n",
       "1              1  3830808     4181361           pv  2017-11-25 07:04:53\n",
       "2              1  4365585     2520377           pv  2017-11-25 07:49:06\n",
       "3              1  4606018     2735466           pv  2017-11-25 13:28:01\n",
       "4              1   230380      411153           pv  2017-11-25 21:22:22\n",
       "...          ...      ...         ...          ...                  ...\n",
       "86953520  999999  4929832     4602841           pv  2017-12-02 12:39:54\n",
       "86953521  999999  1492928     4794845           pv  2017-12-02 12:40:43\n",
       "86953522  999999  2879219     4794845           pv  2017-12-02 12:41:09\n",
       "86953523  999999  1497516     1817077           pv  2017-12-02 12:43:01\n",
       "86953524  999999  4466226     1817077           pv  2017-12-02 12:43:19\n",
       "\n",
       "[86953525 rows x 5 columns]"
      ]
     },
     "execution_count": 2,
     "metadata": {},
     "output_type": "execute_result"
    }
   ],
   "source": [
    "df = pd.read_csv(\"C:/Users/anujp/Desktop/Data-Visualization-Final-Project/data/user_behavior_sample_data.csv\")\n",
    "df"
   ]
  },
  {
   "cell_type": "code",
   "execution_count": 5,
   "metadata": {},
   "outputs": [
    {
     "name": "stdout",
     "output_type": "stream",
     "text": [
      "Dataset size is : 434767625\n"
     ]
    }
   ],
   "source": [
    "print(\"Dataset size is :\",df.size)"
   ]
  },
  {
   "cell_type": "code",
   "execution_count": 7,
   "metadata": {},
   "outputs": [
    {
     "name": "stdout",
     "output_type": "stream",
     "text": [
      "Dataset shape is : (86953525, 5)\n"
     ]
    }
   ],
   "source": [
    "print(\"Dataset shape is :\",df.shape)"
   ]
  },
  {
   "cell_type": "code",
   "execution_count": 8,
   "metadata": {},
   "outputs": [
    {
     "name": "stdout",
     "output_type": "stream",
     "text": [
      "Dataset columns are : Index(['UserID', 'ItemID', 'CategoryID', 'BehaviorType', 'Timestamp'], dtype='object')\n"
     ]
    }
   ],
   "source": [
    "print(\"Dataset columns are :\",df.columns)"
   ]
  },
  {
   "cell_type": "code",
   "execution_count": 11,
   "metadata": {},
   "outputs": [
    {
     "name": "stdout",
     "output_type": "stream",
     "text": [
      "Total Unique Columns are \n",
      "\n",
      "UserID: 987982 unique values\n",
      "ItemID: 3962559 unique values\n",
      "CategoryID: 9377 unique values\n",
      "BehaviorType: 4 unique values\n",
      "Timestamp: 691200 unique values\n"
     ]
    }
   ],
   "source": [
    "print(\"Total Unique Columns are \\n\")\n",
    "for col in df.columns:\n",
    "    unique_vals = df[col].nunique()\n",
    "    print(f\"{col}: {unique_vals} unique values\")"
   ]
  },
  {
   "cell_type": "code",
   "execution_count": 13,
   "metadata": {},
   "outputs": [
    {
     "name": "stdout",
     "output_type": "stream",
     "text": [
      "Unique Behavior Types: ['pv' 'buy' 'fav' 'cart']\n"
     ]
    }
   ],
   "source": [
    "print(\"Unique Behavior Types:\", df['BehaviorType'].unique())"
   ]
  },
  {
   "cell_type": "code",
   "execution_count": 14,
   "metadata": {},
   "outputs": [
    {
     "data": {
      "text/plain": [
       "BehaviorType\n",
       "pv      77887614\n",
       "cart     4789072\n",
       "fav      2513338\n",
       "buy      1763501\n",
       "Name: count, dtype: int64"
      ]
     },
     "execution_count": 14,
     "metadata": {},
     "output_type": "execute_result"
    }
   ],
   "source": [
    "df['BehaviorType'].value_counts()"
   ]
  },
  {
   "cell_type": "code",
   "execution_count": 15,
   "metadata": {},
   "outputs": [
    {
     "data": {
      "text/html": [
       "<div>\n",
       "<style scoped>\n",
       "    .dataframe tbody tr th:only-of-type {\n",
       "        vertical-align: middle;\n",
       "    }\n",
       "\n",
       "    .dataframe tbody tr th {\n",
       "        vertical-align: top;\n",
       "    }\n",
       "\n",
       "    .dataframe thead th {\n",
       "        text-align: right;\n",
       "    }\n",
       "</style>\n",
       "<table border=\"1\" class=\"dataframe\">\n",
       "  <thead>\n",
       "    <tr style=\"text-align: right;\">\n",
       "      <th>BehaviorType</th>\n",
       "      <th>buy</th>\n",
       "      <th>cart</th>\n",
       "      <th>fav</th>\n",
       "      <th>pv</th>\n",
       "    </tr>\n",
       "    <tr>\n",
       "      <th>CategoryID</th>\n",
       "      <th></th>\n",
       "      <th></th>\n",
       "      <th></th>\n",
       "      <th></th>\n",
       "    </tr>\n",
       "  </thead>\n",
       "  <tbody>\n",
       "    <tr>\n",
       "      <th>80</th>\n",
       "      <td>0.0</td>\n",
       "      <td>0.0</td>\n",
       "      <td>0.0</td>\n",
       "      <td>17.0</td>\n",
       "    </tr>\n",
       "    <tr>\n",
       "      <th>1147</th>\n",
       "      <td>0.0</td>\n",
       "      <td>0.0</td>\n",
       "      <td>0.0</td>\n",
       "      <td>1.0</td>\n",
       "    </tr>\n",
       "    <tr>\n",
       "      <th>2171</th>\n",
       "      <td>90.0</td>\n",
       "      <td>127.0</td>\n",
       "      <td>42.0</td>\n",
       "      <td>1358.0</td>\n",
       "    </tr>\n",
       "    <tr>\n",
       "      <th>2410</th>\n",
       "      <td>14.0</td>\n",
       "      <td>33.0</td>\n",
       "      <td>14.0</td>\n",
       "      <td>581.0</td>\n",
       "    </tr>\n",
       "    <tr>\n",
       "      <th>2424</th>\n",
       "      <td>4.0</td>\n",
       "      <td>1.0</td>\n",
       "      <td>0.0</td>\n",
       "      <td>44.0</td>\n",
       "    </tr>\n",
       "    <tr>\n",
       "      <th>...</th>\n",
       "      <td>...</td>\n",
       "      <td>...</td>\n",
       "      <td>...</td>\n",
       "      <td>...</td>\n",
       "    </tr>\n",
       "    <tr>\n",
       "      <th>5159111</th>\n",
       "      <td>0.0</td>\n",
       "      <td>0.0</td>\n",
       "      <td>0.0</td>\n",
       "      <td>12.0</td>\n",
       "    </tr>\n",
       "    <tr>\n",
       "      <th>5159987</th>\n",
       "      <td>0.0</td>\n",
       "      <td>0.0</td>\n",
       "      <td>0.0</td>\n",
       "      <td>1.0</td>\n",
       "    </tr>\n",
       "    <tr>\n",
       "      <th>5160054</th>\n",
       "      <td>7.0</td>\n",
       "      <td>2.0</td>\n",
       "      <td>0.0</td>\n",
       "      <td>179.0</td>\n",
       "    </tr>\n",
       "    <tr>\n",
       "      <th>5161669</th>\n",
       "      <td>111.0</td>\n",
       "      <td>98.0</td>\n",
       "      <td>17.0</td>\n",
       "      <td>759.0</td>\n",
       "    </tr>\n",
       "    <tr>\n",
       "      <th>5162429</th>\n",
       "      <td>0.0</td>\n",
       "      <td>0.0</td>\n",
       "      <td>0.0</td>\n",
       "      <td>2.0</td>\n",
       "    </tr>\n",
       "  </tbody>\n",
       "</table>\n",
       "<p>9377 rows × 4 columns</p>\n",
       "</div>"
      ],
      "text/plain": [
       "BehaviorType    buy   cart   fav      pv\n",
       "CategoryID                              \n",
       "80              0.0    0.0   0.0    17.0\n",
       "1147            0.0    0.0   0.0     1.0\n",
       "2171           90.0  127.0  42.0  1358.0\n",
       "2410           14.0   33.0  14.0   581.0\n",
       "2424            4.0    1.0   0.0    44.0\n",
       "...             ...    ...   ...     ...\n",
       "5159111         0.0    0.0   0.0    12.0\n",
       "5159987         0.0    0.0   0.0     1.0\n",
       "5160054         7.0    2.0   0.0   179.0\n",
       "5161669       111.0   98.0  17.0   759.0\n",
       "5162429         0.0    0.0   0.0     2.0\n",
       "\n",
       "[9377 rows x 4 columns]"
      ]
     },
     "execution_count": 15,
     "metadata": {},
     "output_type": "execute_result"
    }
   ],
   "source": [
    "df.groupby(['CategoryID', 'BehaviorType']).size().unstack().fillna(0)"
   ]
  },
  {
   "cell_type": "code",
   "execution_count": 16,
   "metadata": {},
   "outputs": [
    {
     "name": "stdout",
     "output_type": "stream",
     "text": [
      "Start Time: 2017-11-25 00:00:00\n",
      "End Time:   2017-12-02 23:59:59\n"
     ]
    }
   ],
   "source": [
    "# Convert the Timestamp column to datetime if not already done\n",
    "df['Datetime'] = pd.to_datetime(df['Timestamp'])\n",
    "\n",
    "# Print the start and end times\n",
    "start_time = df['Datetime'].min()\n",
    "end_time = df['Datetime'].max()\n",
    "\n",
    "print(f\"Start Time: {start_time}\")\n",
    "print(f\"End Time:   {end_time}\")"
   ]
  },
  {
   "cell_type": "code",
   "execution_count": null,
   "metadata": {},
   "outputs": [],
   "source": []
  }
 ],
 "metadata": {
  "kernelspec": {
   "display_name": "data_visualization",
   "language": "python",
   "name": "python3"
  },
  "language_info": {
   "codemirror_mode": {
    "name": "ipython",
    "version": 3
   },
   "file_extension": ".py",
   "mimetype": "text/x-python",
   "name": "python",
   "nbconvert_exporter": "python",
   "pygments_lexer": "ipython3",
   "version": "3.9.21"
  }
 },
 "nbformat": 4,
 "nbformat_minor": 2
}
