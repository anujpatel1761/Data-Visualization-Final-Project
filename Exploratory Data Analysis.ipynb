{
 "cells": [
  {
   "cell_type": "code",
   "execution_count": 3,
   "metadata": {},
   "outputs": [],
   "source": [
    "import pandas as pd"
   ]
  },
  {
   "cell_type": "code",
   "execution_count": 4,
   "metadata": {},
   "outputs": [
    {
     "data": {
      "text/html": [
       "<div>\n",
       "<style scoped>\n",
       "    .dataframe tbody tr th:only-of-type {\n",
       "        vertical-align: middle;\n",
       "    }\n",
       "\n",
       "    .dataframe tbody tr th {\n",
       "        vertical-align: top;\n",
       "    }\n",
       "\n",
       "    .dataframe thead th {\n",
       "        text-align: right;\n",
       "    }\n",
       "</style>\n",
       "<table border=\"1\" class=\"dataframe\">\n",
       "  <thead>\n",
       "    <tr style=\"text-align: right;\">\n",
       "      <th></th>\n",
       "      <th>UserID</th>\n",
       "      <th>ItemID</th>\n",
       "      <th>CategoryID</th>\n",
       "      <th>BehaviorType</th>\n",
       "      <th>Timestamp</th>\n",
       "    </tr>\n",
       "  </thead>\n",
       "  <tbody>\n",
       "    <tr>\n",
       "      <th>0</th>\n",
       "      <td>1</td>\n",
       "      <td>2576651</td>\n",
       "      <td>149192</td>\n",
       "      <td>pv</td>\n",
       "      <td>2017-11-25 01:21:25</td>\n",
       "    </tr>\n",
       "    <tr>\n",
       "      <th>1</th>\n",
       "      <td>1</td>\n",
       "      <td>3830808</td>\n",
       "      <td>4181361</td>\n",
       "      <td>pv</td>\n",
       "      <td>2017-11-25 07:04:53</td>\n",
       "    </tr>\n",
       "    <tr>\n",
       "      <th>2</th>\n",
       "      <td>1</td>\n",
       "      <td>4365585</td>\n",
       "      <td>2520377</td>\n",
       "      <td>pv</td>\n",
       "      <td>2017-11-25 07:49:06</td>\n",
       "    </tr>\n",
       "    <tr>\n",
       "      <th>3</th>\n",
       "      <td>1</td>\n",
       "      <td>4606018</td>\n",
       "      <td>2735466</td>\n",
       "      <td>pv</td>\n",
       "      <td>2017-11-25 13:28:01</td>\n",
       "    </tr>\n",
       "    <tr>\n",
       "      <th>4</th>\n",
       "      <td>1</td>\n",
       "      <td>230380</td>\n",
       "      <td>411153</td>\n",
       "      <td>pv</td>\n",
       "      <td>2017-11-25 21:22:22</td>\n",
       "    </tr>\n",
       "    <tr>\n",
       "      <th>...</th>\n",
       "      <td>...</td>\n",
       "      <td>...</td>\n",
       "      <td>...</td>\n",
       "      <td>...</td>\n",
       "      <td>...</td>\n",
       "    </tr>\n",
       "    <tr>\n",
       "      <th>86953520</th>\n",
       "      <td>999999</td>\n",
       "      <td>4929832</td>\n",
       "      <td>4602841</td>\n",
       "      <td>pv</td>\n",
       "      <td>2017-12-02 12:39:54</td>\n",
       "    </tr>\n",
       "    <tr>\n",
       "      <th>86953521</th>\n",
       "      <td>999999</td>\n",
       "      <td>1492928</td>\n",
       "      <td>4794845</td>\n",
       "      <td>pv</td>\n",
       "      <td>2017-12-02 12:40:43</td>\n",
       "    </tr>\n",
       "    <tr>\n",
       "      <th>86953522</th>\n",
       "      <td>999999</td>\n",
       "      <td>2879219</td>\n",
       "      <td>4794845</td>\n",
       "      <td>pv</td>\n",
       "      <td>2017-12-02 12:41:09</td>\n",
       "    </tr>\n",
       "    <tr>\n",
       "      <th>86953523</th>\n",
       "      <td>999999</td>\n",
       "      <td>1497516</td>\n",
       "      <td>1817077</td>\n",
       "      <td>pv</td>\n",
       "      <td>2017-12-02 12:43:01</td>\n",
       "    </tr>\n",
       "    <tr>\n",
       "      <th>86953524</th>\n",
       "      <td>999999</td>\n",
       "      <td>4466226</td>\n",
       "      <td>1817077</td>\n",
       "      <td>pv</td>\n",
       "      <td>2017-12-02 12:43:19</td>\n",
       "    </tr>\n",
       "  </tbody>\n",
       "</table>\n",
       "<p>86953525 rows × 5 columns</p>\n",
       "</div>"
      ],
      "text/plain": [
       "          UserID   ItemID  CategoryID BehaviorType            Timestamp\n",
       "0              1  2576651      149192           pv  2017-11-25 01:21:25\n",
       "1              1  3830808     4181361           pv  2017-11-25 07:04:53\n",
       "2              1  4365585     2520377           pv  2017-11-25 07:49:06\n",
       "3              1  4606018     2735466           pv  2017-11-25 13:28:01\n",
       "4              1   230380      411153           pv  2017-11-25 21:22:22\n",
       "...          ...      ...         ...          ...                  ...\n",
       "86953520  999999  4929832     4602841           pv  2017-12-02 12:39:54\n",
       "86953521  999999  1492928     4794845           pv  2017-12-02 12:40:43\n",
       "86953522  999999  2879219     4794845           pv  2017-12-02 12:41:09\n",
       "86953523  999999  1497516     1817077           pv  2017-12-02 12:43:01\n",
       "86953524  999999  4466226     1817077           pv  2017-12-02 12:43:19\n",
       "\n",
       "[86953525 rows x 5 columns]"
      ]
     },
     "execution_count": 4,
     "metadata": {},
     "output_type": "execute_result"
    }
   ],
   "source": [
    "df = pd.read_csv(\"C:/Users/anujp/Desktop/Data-Visualization-Final-Project/data/user_behavior_sample_data.csv\")\n",
    "df"
   ]
  },
  {
   "cell_type": "code",
   "execution_count": null,
   "metadata": {},
   "outputs": [],
   "source": [
    "df.size"
   ]
  },
  {
   "cell_type": "code",
   "execution_count": null,
   "metadata": {},
   "outputs": [],
   "source": [
    "df.shape"
   ]
  },
  {
   "cell_type": "code",
   "execution_count": null,
   "metadata": {},
   "outputs": [],
   "source": [
    "df.columns"
   ]
  },
  {
   "cell_type": "code",
   "execution_count": null,
   "metadata": {},
   "outputs": [],
   "source": []
  },
  {
   "cell_type": "code",
   "execution_count": null,
   "metadata": {},
   "outputs": [],
   "source": [
    "for col in df.columns:\n",
    "    unique_vals = df[col].nunique()\n",
    "    print(f\"{col}: {unique_vals} unique values\")\n"
   ]
  },
  {
   "cell_type": "code",
   "execution_count": null,
   "metadata": {},
   "outputs": [],
   "source": [
    "print(\"Unique Behavior Types:\", df['BehaviorType'].unique())\n",
    "print(\"Unique Categories:\", df['CategoryID'].unique()[:10])  # First 10 for preview\n",
    "print(\"Unique User IDs:\", df['UserID'].unique()[:10])"
   ]
  },
  {
   "cell_type": "code",
   "execution_count": null,
   "metadata": {},
   "outputs": [],
   "source": [
    "df['BehaviorType'].value_counts()\n"
   ]
  },
  {
   "cell_type": "code",
   "execution_count": null,
   "metadata": {},
   "outputs": [],
   "source": [
    "df.groupby(['CategoryID', 'BehaviorType']).size().unstack().fillna(0)\n"
   ]
  },
  {
   "cell_type": "code",
   "execution_count": null,
   "metadata": {},
   "outputs": [
    {
     "name": "stdout",
     "output_type": "stream",
     "text": [
      "Start Time: 2017-11-25 00:00:00\n",
      "End Time:   2017-12-02 23:59:59\n"
     ]
    }
   ],
   "source": [
    "import pandas as pd\n",
    "\n",
    "# Convert the Timestamp column to datetime if not already done\n",
    "df['Datetime'] = pd.to_datetime(df['Timestamp'])\n",
    "\n",
    "# Print the start and end times\n",
    "start_time = df['Datetime'].min()\n",
    "end_time = df['Datetime'].max()\n",
    "\n",
    "print(f\"Start Time: {start_time}\")\n",
    "print(f\"End Time:   {end_time}\")"
   ]
  },
  {
   "cell_type": "code",
   "execution_count": null,
   "metadata": {},
   "outputs": [],
   "source": []
  }
 ],
 "metadata": {
  "kernelspec": {
   "display_name": "data_visualization",
   "language": "python",
   "name": "python3"
  },
  "language_info": {
   "codemirror_mode": {
    "name": "ipython",
    "version": 3
   },
   "file_extension": ".py",
   "mimetype": "text/x-python",
   "name": "python",
   "nbconvert_exporter": "python",
   "pygments_lexer": "ipython3",
   "version": "3.9.21"
  }
 },
 "nbformat": 4,
 "nbformat_minor": 2
}
